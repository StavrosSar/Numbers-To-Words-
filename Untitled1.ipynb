{
 "cells": [
  {
   "cell_type": "code",
   "execution_count": 226,
   "id": "8198d3cf",
   "metadata": {},
   "outputs": [],
   "source": [
    "def int_to_en(num):\n",
    "    d = { 0 : 'zero', 1 : 'one', 2 : 'two', 3 : 'three', 4 : 'four', 5 : 'five',\n",
    "          6 : 'six', 7 : 'seven', 8 : 'eight', 9 : 'nine', 10 : 'ten',\n",
    "          11 : 'eleven', 12 : 'twelve', 13 : 'thirteen', 14 : 'fourteen',\n",
    "          15 : 'fifteen', 16 : 'sixteen', 17 : 'seventeen', 18 : 'eighteen',\n",
    "          19 : 'nineteen', 20 : 'twenty',\n",
    "          30 : 'thirty', 40 : 'forty', 50 : 'fifty', 60 : 'sixty',\n",
    "          70 : 'seventy', 80 : 'eighty', 90 : 'ninety' }\n",
    "\n",
    "    k = 1000\n",
    "    m = k * 1000\n",
    "    b = m * 1000\n",
    "    \n",
    "    if (num < 20):\n",
    "        return d[num]\n",
    "\n",
    "    if (num < 100):\n",
    "        if num % 10 == 0: return d[num]\n",
    "        else: return d[num // 10 * 10] + '-' + d[num % 10]\n",
    "\n",
    "    if (num < k):\n",
    "        if num % 100 == 0: return d[num // 100] + ' hundred'\n",
    "        else: return d[num // 100] + ' hundred and ' + int_to_en(num % 100)\n",
    "\n",
    "    if (num < m):\n",
    "        if num % k == 0: return int_to_en(num // k) + ' thousand'\n",
    "        else: return int_to_en(num // k) + ' thousand, ' + int_to_en(num % k)\n",
    "\n",
    "    if (num < b):\n",
    "        if (num % m) == 0: return int_to_en(num // m) + ' million'\n",
    "        else: return int_to_en(num // m) + ' million, ' + int_to_en(num % m)\n"
   ]
  },
  {
   "cell_type": "code",
   "execution_count": 251,
   "id": "b21599aa",
   "metadata": {},
   "outputs": [],
   "source": [
    "def neg_to_pos(num):\n",
    "    x = abs(num)\n",
    "    return 'minus '+int_to_en(x)"
   ]
  },
  {
   "cell_type": "code",
   "execution_count": 454,
   "id": "d86942e5",
   "metadata": {},
   "outputs": [],
   "source": [
    " def user_choice():\n",
    "    \n",
    "    # This original choice value can be anything that isn't an integer\n",
    "    choice = 'wrong'\n",
    "    \n",
    "    # While the choice is not a digit, keep asking for input.\n",
    "    while isinstance(choice,str):\n",
    "        \n",
    "        # we shouldn't convert here, otherwise we get an error on a wrong input\n",
    "        choice =  str(input(\"Choose a number: \"))\n",
    "\n",
    "        if(choice.lstrip('-').replace(',', '', 1).isdigit()):\n",
    "            return int(choice)\n",
    "            break\n",
    "        else:\n",
    "            return str(choice)\n",
    "            break  \n",
    "    \n",
    "        # Error Message Check\n",
    "        if  isinstance(choice,str):\n",
    "            print(\"Sorry, but you did not enter an integer. Please try again.\")     "
   ]
  },
  {
   "cell_type": "code",
   "execution_count": 473,
   "id": "0d89d80e",
   "metadata": {},
   "outputs": [
    {
     "name": "stdout",
     "output_type": "stream",
     "text": [
      "Choose a number: 2\n",
      "two\n"
     ]
    }
   ],
   "source": [
    "class My_main:\n",
    "    x = user_choice()\n",
    "    \n",
    "    if isinstance(x, str):    \n",
    "        first,second = float_func(x)\n",
    "        first=convert(first)\n",
    "        second=convert(second)\n",
    "        print(int_to_en(first) +' POINT ' + int_to_en(second))\n",
    "   \n",
    "    if(x<0 and isinstance(x, int)):\n",
    "         print(neg_to_pos(x))\n",
    "    if(x>=0 and isinstance(x, int)):\n",
    "         print(int_to_en(x))       "
   ]
  },
  {
   "cell_type": "code",
   "execution_count": 470,
   "id": "12188622",
   "metadata": {},
   "outputs": [],
   "source": [
    "def convert(list):\n",
    "      \n",
    "    # Converting integer list to string list\n",
    "    s = [str(i) for i in list]\n",
    "      \n",
    "    # Join list items using join()\n",
    "    res = int(\"\".join(s))\n",
    "      \n",
    "    return(res)"
   ]
  },
  {
   "cell_type": "code",
   "execution_count": 471,
   "id": "02e95c86",
   "metadata": {},
   "outputs": [],
   "source": [
    "def float_func(s):\n",
    "    a,b = ([int(x)]  for x in s.split(\".\",1))    \n",
    "    return a,b"
   ]
  }
 ],
 "metadata": {
  "kernelspec": {
   "display_name": "Python 3",
   "language": "python",
   "name": "python3"
  },
  "language_info": {
   "codemirror_mode": {
    "name": "ipython",
    "version": 3
   },
   "file_extension": ".py",
   "mimetype": "text/x-python",
   "name": "python",
   "nbconvert_exporter": "python",
   "pygments_lexer": "ipython3",
   "version": "3.8.8"
  }
 },
 "nbformat": 4,
 "nbformat_minor": 5
}
